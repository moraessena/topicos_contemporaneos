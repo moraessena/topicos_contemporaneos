{
 "cells": [
  {
   "cell_type": "code",
   "execution_count": 3,
   "metadata": {},
   "outputs": [],
   "source": [
    "import getpass\n",
    "import os\n",
    "\n",
    "os.environ[\"OPENAI_API_KEY\"] = getpass.getpass()"
   ]
  },
  {
   "cell_type": "code",
   "execution_count": 4,
   "metadata": {},
   "outputs": [],
   "source": [
    "from langchain_openai import ChatOpenAI\n",
    "\n",
    "llm = ChatOpenAI(model=\"gpt-4o-mini\", temperature=0)"
   ]
  },
  {
   "cell_type": "code",
   "execution_count": 5,
   "metadata": {},
   "outputs": [
    {
     "name": "stdout",
     "output_type": "stream",
     "text": [
      "Desculpe, mas não consigo fornecer informações em tempo real, como a previsão do tempo. Recomendo que você consulte um site de meteorologia ou um aplicativo de clima para obter as informações mais atualizadas sobre o tempo em Recife-RN.\n"
     ]
    }
   ],
   "source": [
    "response = llm.invoke(\"Qual a previsão do tempo em Recife-RN?\")\n",
    "print(response.content)"
   ]
  },
  {
   "cell_type": "code",
   "execution_count": 6,
   "metadata": {},
   "outputs": [
    {
     "name": "stdout",
     "output_type": "stream",
     "text": [
      "234250195202202999695.\n",
      "\n",
      "Resposta esperada: 234456898310655737445\n"
     ]
    }
   ],
   "source": [
    "a = 18273840567\n",
    "b = 12830192835\n",
    "\n",
    "response = llm.invoke(\"Quanto é 18273840567*12830192835? Responda apenas a o resultado.\")\n",
    "print(response.content)\n",
    "print()\n",
    "print(f'Resposta esperada:', a*b)"
   ]
  },
  {
   "cell_type": "code",
   "execution_count": 7,
   "metadata": {},
   "outputs": [],
   "source": [
    "import random\n",
    "from langchain.tools import tool\n",
    "\n",
    "@tool\n",
    "def add(a: int, b: int) -> int:\n",
    "    \"\"\"Soma dois inteiros.\n",
    "\n",
    "    Args:\n",
    "        a: Primeiro inteiro\n",
    "        b: Segundo inteiro\n",
    "    \"\"\"\n",
    "    return a + b\n",
    "\n",
    "@tool\n",
    "def multiply(a: int, b: int) -> int:\n",
    "    \"\"\"Multiplica dois inteiros.\n",
    "\n",
    "    Args:\n",
    "        a: Primeiro inteiro\n",
    "        b: Segundo inteiro\n",
    "    \"\"\"\n",
    "    return a * b\n",
    "\n",
    "@tool\n",
    "def get_weather(city: str) -> str:\n",
    "    \"\"\"Retorna um clima aleatório para uma cidade.\n",
    "\n",
    "    Args:\n",
    "        city: Nome da cidade\n",
    "    \"\"\"\n",
    "    weather = random.choice([\"ensolarado\", \"nublado\", \"chuvoso\", \"tempestuoso\", \"neve\"])\n",
    "    return weather\n",
    "\n",
    "tools = [add, multiply, get_weather]\n",
    "llm_with_tools = llm.bind_tools(tools)"
   ]
  },
  {
   "cell_type": "code",
   "execution_count": 8,
   "metadata": {},
   "outputs": [
    {
     "data": {
      "text/plain": [
       "'neve'"
      ]
     },
     "execution_count": 8,
     "metadata": {},
     "output_type": "execute_result"
    }
   ],
   "source": [
    "get_weather.invoke({\"city\": \"Recife-RN\"})"
   ]
  },
  {
   "cell_type": "code",
   "execution_count": 9,
   "metadata": {},
   "outputs": [
    {
     "name": "stdout",
     "output_type": "stream",
     "text": [
      "ContentString: \n",
      "ToolCalls: [{'name': 'get_weather', 'args': {'city': 'Recife-RN'}, 'id': 'call_LiuExQDva6hAj7NGkVUmsD5l', 'type': 'tool_call'}, {'name': 'multiply', 'args': {'a': 123, 'b': 321}, 'id': 'call_yLeMIhWXg0VWuCfYVH7GMGn4', 'type': 'tool_call'}]\n"
     ]
    }
   ],
   "source": [
    "from langchain_core.messages import HumanMessage\n",
    "\n",
    "messages = [HumanMessage(\"Qual a previsão do tempo em Recife-RN? E também quanto é 123*321?\")]\n",
    "\n",
    "ai_msg = llm_with_tools.invoke(messages)\n",
    "\n",
    "print(f\"ContentString: {ai_msg.content}\")\n",
    "print(f\"ToolCalls: {ai_msg.tool_calls}\")"
   ]
  },
  {
   "cell_type": "code",
   "execution_count": 12,
   "metadata": {},
   "outputs": [],
   "source": [
    "from langgraph.prebuilt import create_react_agent\n",
    "\n",
    "agent_executor = create_react_agent(llm, tools)"
   ]
  },
  {
   "cell_type": "code",
   "execution_count": 13,
   "metadata": {},
   "outputs": [
    {
     "name": "stdout",
     "output_type": "stream",
     "text": [
      "[HumanMessage(content='Qual a previsão do tempo em Recife-RN? E também quanto é 123*321?', additional_kwargs={}, response_metadata={}, id='c15b98da-3054-45ba-8fa6-8cea28893125'), AIMessage(content='', additional_kwargs={'tool_calls': [{'id': 'call_YgWKih1jJCTsti39t5m1XFg5', 'function': {'arguments': '{\"city\": \"Recife-RN\"}', 'name': 'get_weather'}, 'type': 'function'}, {'id': 'call_XDnCSvvndvR4hpxjncuf6RSJ', 'function': {'arguments': '{\"a\": 123, \"b\": 321}', 'name': 'multiply'}, 'type': 'function'}], 'refusal': None}, response_metadata={'token_usage': {'completion_tokens': 51, 'prompt_tokens': 145, 'total_tokens': 196, 'completion_tokens_details': {'accepted_prediction_tokens': 0, 'audio_tokens': 0, 'reasoning_tokens': 0, 'rejected_prediction_tokens': 0}, 'prompt_tokens_details': {'audio_tokens': 0, 'cached_tokens': 0}}, 'model_name': 'gpt-4o-mini-2024-07-18', 'system_fingerprint': 'fp_72ed7ab54c', 'finish_reason': 'tool_calls', 'logprobs': None}, id='run-d5fc003d-dba4-4a8d-8225-ec577cd398ec-0', tool_calls=[{'name': 'get_weather', 'args': {'city': 'Recife-RN'}, 'id': 'call_YgWKih1jJCTsti39t5m1XFg5', 'type': 'tool_call'}, {'name': 'multiply', 'args': {'a': 123, 'b': 321}, 'id': 'call_XDnCSvvndvR4hpxjncuf6RSJ', 'type': 'tool_call'}], usage_metadata={'input_tokens': 145, 'output_tokens': 51, 'total_tokens': 196, 'input_token_details': {'audio': 0, 'cache_read': 0}, 'output_token_details': {'audio': 0, 'reasoning': 0}}), ToolMessage(content='nublado', name='get_weather', id='e789b1ef-7f58-4903-880b-1a4c15857596', tool_call_id='call_YgWKih1jJCTsti39t5m1XFg5'), ToolMessage(content='39483', name='multiply', id='731d9a19-463c-4fb7-875b-c2406c19fd2e', tool_call_id='call_XDnCSvvndvR4hpxjncuf6RSJ'), AIMessage(content='A previsão do tempo em Recife-RN é de céu nublado. \\n\\nAlém disso, o resultado de 123 * 321 é 39.483.', additional_kwargs={'refusal': None}, response_metadata={'token_usage': {'completion_tokens': 34, 'prompt_tokens': 213, 'total_tokens': 247, 'completion_tokens_details': {'accepted_prediction_tokens': 0, 'audio_tokens': 0, 'reasoning_tokens': 0, 'rejected_prediction_tokens': 0}, 'prompt_tokens_details': {'audio_tokens': 0, 'cached_tokens': 0}}, 'model_name': 'gpt-4o-mini-2024-07-18', 'system_fingerprint': 'fp_72ed7ab54c', 'finish_reason': 'stop', 'logprobs': None}, id='run-563bec7e-8cd6-4dd1-a86d-2d6e4a685e3f-0', usage_metadata={'input_tokens': 213, 'output_tokens': 34, 'total_tokens': 247, 'input_token_details': {'audio': 0, 'cache_read': 0}, 'output_token_details': {'audio': 0, 'reasoning': 0}})]\n"
     ]
    }
   ],
   "source": [
    "response = agent_executor.invoke({\n",
    "    \"messages\": [\n",
    "        HumanMessage(\"Qual a previsão do tempo em Recife-RN? E também quanto é 123*321?\")\n",
    "    ]\n",
    "})\n",
    "\n",
    "print(response[\"messages\"])"
   ]
  },
  {
   "cell_type": "code",
   "execution_count": 14,
   "metadata": {},
   "outputs": [
    {
     "name": "stdout",
     "output_type": "stream",
     "text": [
      "A previsão do tempo em Recife-RN é de céu nublado. \n",
      "\n",
      "Além disso, o resultado de 123 * 321 é 39.483.\n"
     ]
    }
   ],
   "source": [
    "print(response[\"messages\"][-1].content)"
   ]
  },
  {
   "cell_type": "markdown",
   "metadata": {},
   "source": [
    "## Exercícios"
   ]
  },
  {
   "cell_type": "markdown",
   "metadata": {},
   "source": [
    "### Exercício 1\n",
    "Adicione uma função nas ferramentas do agente para criar arquivos de texto. Em seguida, teste o agente."
   ]
  },
  {
   "cell_type": "code",
   "execution_count": 20,
   "metadata": {},
   "outputs": [
    {
     "name": "stdout",
     "output_type": "stream",
     "text": [
      "[HumanMessage(content=\"Crie um arquivo hello_world.txt contendo o texto olá mundo'\", additional_kwargs={}, response_metadata={}, id='2a2ca00a-7c12-498f-885f-11b7d01f28dd'), AIMessage(content='', additional_kwargs={'tool_calls': [{'id': 'call_VnEmFmAnhj7DdjeK9L40D2Ru', 'function': {'arguments': '{\"file_name\":\"hello_world.txt\",\"content\":\"olá mundo\"}', 'name': 'create_file'}, 'type': 'function'}], 'refusal': None}, response_metadata={'token_usage': {'completion_tokens': 24, 'prompt_tokens': 187, 'total_tokens': 211, 'completion_tokens_details': {'accepted_prediction_tokens': 0, 'audio_tokens': 0, 'reasoning_tokens': 0, 'rejected_prediction_tokens': 0}, 'prompt_tokens_details': {'audio_tokens': 0, 'cached_tokens': 0}}, 'model_name': 'gpt-4o-mini-2024-07-18', 'system_fingerprint': 'fp_72ed7ab54c', 'finish_reason': 'tool_calls', 'logprobs': None}, id='run-4e8d823b-5898-43a6-b92d-8da038555f1e-0', tool_calls=[{'name': 'create_file', 'args': {'file_name': 'hello_world.txt', 'content': 'olá mundo'}, 'id': 'call_VnEmFmAnhj7DdjeK9L40D2Ru', 'type': 'tool_call'}], usage_metadata={'input_tokens': 187, 'output_tokens': 24, 'total_tokens': 211, 'input_token_details': {'audio': 0, 'cache_read': 0}, 'output_token_details': {'audio': 0, 'reasoning': 0}}), ToolMessage(content='Arquivo \"hello_world.txt\" criado com sucesso!', name='create_file', id='4e824b36-c3fb-479d-a57a-66625dae5c55', tool_call_id='call_VnEmFmAnhj7DdjeK9L40D2Ru'), AIMessage(content='O arquivo \"hello_world.txt\" foi criado com sucesso, contendo o texto \"olá mundo\".', additional_kwargs={'refusal': None}, response_metadata={'token_usage': {'completion_tokens': 22, 'prompt_tokens': 228, 'total_tokens': 250, 'completion_tokens_details': {'accepted_prediction_tokens': 0, 'audio_tokens': 0, 'reasoning_tokens': 0, 'rejected_prediction_tokens': 0}, 'prompt_tokens_details': {'audio_tokens': 0, 'cached_tokens': 0}}, 'model_name': 'gpt-4o-mini-2024-07-18', 'system_fingerprint': 'fp_72ed7ab54c', 'finish_reason': 'stop', 'logprobs': None}, id='run-cdb2865a-1e6f-4b75-a4a9-9d70327be193-0', usage_metadata={'input_tokens': 228, 'output_tokens': 22, 'total_tokens': 250, 'input_token_details': {'audio': 0, 'cache_read': 0}, 'output_token_details': {'audio': 0, 'reasoning': 0}})]\n",
      "O arquivo \"hello_world.txt\" foi criado com sucesso, contendo o texto \"olá mundo\".\n"
     ]
    }
   ],
   "source": [
    "import os\n",
    "\n",
    "@tool\n",
    "def create_file(file_name: str, content: str) -> str:\n",
    "    \"\"\"Cria um arquivo de texto com o conteúdo\n",
    "\n",
    "    Args:\n",
    "        file_name: Nome do arquivo\n",
    "        content: Conteúdo do arquivo\n",
    "    \"\"\"\n",
    "    with open(file_name, 'w') as file:\n",
    "        file.write(content)\n",
    "    return f'Arquivo \"{file_name}\" criado com sucesso!'\n",
    "\n",
    "tools.append(create_file)\n",
    "agent_executor = create_react_agent(llm, tools)\n",
    "response = agent_executor.invoke({\n",
    "    \"messages\": [\n",
    "        HumanMessage(\"Crie um arquivo hello_world.txt contendo o texto olá mundo'\")\n",
    "    ]\n",
    "})\n",
    "print(response[\"messages\"])\n",
    "print(response[\"messages\"][-1].content)"
   ]
  },
  {
   "cell_type": "markdown",
   "metadata": {},
   "source": [
    "### Exercício 2\n",
    "Crie um agente que conte a quantidade de ocorrências de uma determinada letra em uma palavra. Em seguida, teste o agente."
   ]
  },
  {
   "cell_type": "code",
   "execution_count": 21,
   "metadata": {},
   "outputs": [
    {
     "name": "stdout",
     "output_type": "stream",
     "text": [
      "[HumanMessage(content='Quantas letras a existem na palavra avião?', additional_kwargs={}, response_metadata={}, id='1329d166-a466-475f-8b3e-8fbfc38f312e'), AIMessage(content='', additional_kwargs={'tool_calls': [{'id': 'call_nc2ETiFMLIfeq6PU8Bvfeg99', 'function': {'arguments': '{\"word\":\"avião\",\"char\":\"a\"}', 'name': 'char_count'}, 'type': 'function'}], 'refusal': None}, response_metadata={'token_usage': {'completion_tokens': 20, 'prompt_tokens': 220, 'total_tokens': 240, 'completion_tokens_details': {'accepted_prediction_tokens': 0, 'audio_tokens': 0, 'reasoning_tokens': 0, 'rejected_prediction_tokens': 0}, 'prompt_tokens_details': {'audio_tokens': 0, 'cached_tokens': 0}}, 'model_name': 'gpt-4o-mini-2024-07-18', 'system_fingerprint': 'fp_72ed7ab54c', 'finish_reason': 'tool_calls', 'logprobs': None}, id='run-15ce7425-131b-4acd-906c-eeccc6871de3-0', tool_calls=[{'name': 'char_count', 'args': {'word': 'avião', 'char': 'a'}, 'id': 'call_nc2ETiFMLIfeq6PU8Bvfeg99', 'type': 'tool_call'}], usage_metadata={'input_tokens': 220, 'output_tokens': 20, 'total_tokens': 240, 'input_token_details': {'audio': 0, 'cache_read': 0}, 'output_token_details': {'audio': 0, 'reasoning': 0}}), ToolMessage(content='1', name='char_count', id='61e5238f-7b0b-4ff8-af20-592d6e5bb0ad', tool_call_id='call_nc2ETiFMLIfeq6PU8Bvfeg99'), AIMessage(content='Na palavra \"avião\", existe 1 letra \"a\".', additional_kwargs={'refusal': None}, response_metadata={'token_usage': {'completion_tokens': 15, 'prompt_tokens': 248, 'total_tokens': 263, 'completion_tokens_details': {'accepted_prediction_tokens': 0, 'audio_tokens': 0, 'reasoning_tokens': 0, 'rejected_prediction_tokens': 0}, 'prompt_tokens_details': {'audio_tokens': 0, 'cached_tokens': 0}}, 'model_name': 'gpt-4o-mini-2024-07-18', 'system_fingerprint': 'fp_72ed7ab54c', 'finish_reason': 'stop', 'logprobs': None}, id='run-d0326ea7-879e-45cf-a52f-4420128be356-0', usage_metadata={'input_tokens': 248, 'output_tokens': 15, 'total_tokens': 263, 'input_token_details': {'audio': 0, 'cache_read': 0}, 'output_token_details': {'audio': 0, 'reasoning': 0}})]\n",
      "Na palavra \"avião\", existe 1 letra \"a\".\n"
     ]
    }
   ],
   "source": [
    "import os\n",
    "\n",
    "@tool\n",
    "def char_count(word: str, char: str) -> str:\n",
    "    \"\"\"Conta a quantidade de ocorrências de uma letra em uma palavra\n",
    "\n",
    "    Args:\n",
    "        word: palavra\n",
    "    \"\"\"\n",
    "    return word.count(char)\n",
    "\n",
    "tools.append(char_count)\n",
    "agent_executor = create_react_agent(llm, tools)\n",
    "response = agent_executor.invoke({\n",
    "    \"messages\": [\n",
    "        HumanMessage(\"Quantas letras a existem na palavra avião?\")\n",
    "    ]\n",
    "})\n",
    "print(response[\"messages\"])\n",
    "print(response[\"messages\"][-1].content)"
   ]
  }
 ],
 "metadata": {
  "kernelspec": {
   "display_name": "venv",
   "language": "python",
   "name": "python3"
  },
  "language_info": {
   "codemirror_mode": {
    "name": "ipython",
    "version": 3
   },
   "file_extension": ".py",
   "mimetype": "text/x-python",
   "name": "python",
   "nbconvert_exporter": "python",
   "pygments_lexer": "ipython3",
   "version": "3.12.3"
  }
 },
 "nbformat": 4,
 "nbformat_minor": 2
}
