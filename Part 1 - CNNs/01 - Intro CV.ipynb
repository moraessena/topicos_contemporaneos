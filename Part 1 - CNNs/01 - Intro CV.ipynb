{
 "cells": [
  {
   "cell_type": "markdown",
   "metadata": {},
   "source": [
    "# Visão Computacional\n",
    "\n",
    "A visão computacional é um campo da inteligência artificial que capacita computadores a interpretar e processar informações visuais do mundo. As aplicações incluem reconhecimento de imagens, detecção de objetos, rastreamento de movimento, etc. Para trabalhar com visão computacional, usaremos bibliotecas populares como `numpy` e `cv2`."
   ]
  },
  {
   "cell_type": "markdown",
   "metadata": {},
   "source": [
    "### Importando Bibliotecas\n",
    "Para começar, vamos importar as bibliotecas necessárias: numpy para manipulação de matrizes e matplotlib para visualização."
   ]
  },
  {
   "cell_type": "code",
   "execution_count": null,
   "metadata": {},
   "outputs": [],
   "source": [
    "import numpy as np\n",
    "import cv2\n",
    "from matplotlib import pyplot as plt"
   ]
  },
  {
   "cell_type": "code",
   "execution_count": null,
   "metadata": {},
   "outputs": [],
   "source": [
    "# Definindo uma função auxiliar para exibir imagens\n",
    "def show_image(img, title='Image', cmap_type='gray', figsize=(4, 4), vmin=0, vmax=255):\n",
    "    plt.figure(figsize=figsize)\n",
    "    plt.imshow(img, cmap=cmap_type, vmin=vmin, vmax=vmax)\n",
    "    plt.title(title)\n",
    "    plt.axis('off')\n",
    "    plt.show()"
   ]
  },
  {
   "cell_type": "code",
   "execution_count": null,
   "metadata": {},
   "outputs": [],
   "source": [
    "# Caso a pasta 'data' não exista, crie-a e faça o download da imagem\n",
    "import os\n",
    "\n",
    "os.makedirs('data', exist_ok=True)\n",
    "!curl -o data/lenna.png https://upload.wikimedia.org/wikipedia/en/7/7d/Lenna_%28test_image%29.png"
   ]
  },
  {
   "cell_type": "markdown",
   "metadata": {},
   "source": [
    "### Criando uma Imagem\n",
    "Em visão computacional, uma imagem é representada como uma matriz de pixels. Cada pixel tem um valor de intensidade. Para imagens em escala de cinza, o valor varia de 0 a 255, onde 0 representa preto, 255 representa branco e os valores intermediários representam diferentes tons de cinza. Vamos criar uma imagem preta de 100x100 pixels. Cada pixel tem um valor de intensidade de 0."
   ]
  },
  {
   "cell_type": "code",
   "execution_count": null,
   "metadata": {},
   "outputs": [],
   "source": [
    "black_image = np.zeros((100, 100), dtype=np.uint8)\n",
    "\n",
    "show_image(black_image, title='Imagem Preta')"
   ]
  },
  {
   "cell_type": "markdown",
   "metadata": {},
   "source": [
    "### Desenhando um Ponto\n",
    "Para desenhar um ponto em uma imagem, precisamos modificar o valor de intensidade de um pixel específico. As coordenadas dos pixels são representadas por (y, x), onde y é a linha e x é a coluna. Vamos desenhar um ponto branco (intensidade 255) no centro da imagem preta."
   ]
  },
  {
   "cell_type": "code",
   "execution_count": null,
   "metadata": {},
   "outputs": [],
   "source": [
    "black_image[50, 50] = 255\n",
    "\n",
    "show_image(black_image, title='Imagem com um Ponto')"
   ]
  },
  {
   "cell_type": "markdown",
   "metadata": {},
   "source": [
    "### Desenhando um Retângulo\n",
    "Para desenhar um retângulo, precisamos modificar os valores de intensidade de um conjunto de pixels que formam a forma desejada. Vamos desenhar um retângulo branco na imagem preta. O retângulo terá coordenadas de (25, 40) a (75, 60)."
   ]
  },
  {
   "cell_type": "code",
   "execution_count": null,
   "metadata": {},
   "outputs": [],
   "source": [
    "rectangle_image = np.zeros((100, 100), dtype=np.uint8)\n",
    "\n",
    "for y in range(25, 75):\n",
    "    for x in range(40, 60):\n",
    "        rectangle_image[y, x] = 255\n",
    "\n",
    "show_image(rectangle_image, title='Imagem com um Retângulo')"
   ]
  },
  {
   "cell_type": "markdown",
   "metadata": {},
   "source": [
    "### Desenhando um Círculo\n",
    "Para desenhar um círculo, precisamos modificar os valores de intensidade dos pixels que estão dentro de uma determinada distância (raio) de um ponto central. Vamos desenhar um círculo branco com centro em (50, 50) e raio de 25 pixels."
   ]
  },
  {
   "cell_type": "code",
   "execution_count": null,
   "metadata": {},
   "outputs": [],
   "source": [
    "circle_image = np.zeros((100, 100), dtype=np.uint8)\n",
    "center = (50, 50)\n",
    "radius = 25\n",
    "\n",
    "for y in range(100):\n",
    "    for x in range(100):\n",
    "        dist = (x - center[0])**2 + (y - center[1])**2\n",
    "        if dist <= radius**2:\n",
    "            circle_image[y, x] = 255\n",
    "\n",
    "show_image(circle_image, title='Imagem com um Círculo')"
   ]
  },
  {
   "cell_type": "markdown",
   "metadata": {},
   "source": [
    "### Criando um Gradiente\n",
    "Um gradiente é uma transição suave de uma cor para outra. Vamos criar uma imagem com um gradiente horizontal de cor, indo do preto ao branco. O valor de cada pixel será interpolado entre as cores inicial e final."
   ]
  },
  {
   "cell_type": "code",
   "execution_count": null,
   "metadata": {},
   "outputs": [],
   "source": [
    "def create_gradient(width, height, start_color, end_color):\n",
    "    gradient_image = np.zeros((height, width), dtype=np.uint8)\n",
    "\n",
    "    for x in range(width):\n",
    "        color = start_color + (end_color - start_color) * (x / (width - 1))\n",
    "        gradient_image[:, x] = color\n",
    "    \n",
    "    return gradient_image\n",
    "\n",
    "gradient_image = create_gradient(100, 100, 0, 255)\n",
    "show_image(gradient_image, title='Gradiente')"
   ]
  },
  {
   "cell_type": "markdown",
   "metadata": {},
   "source": [
    "### Carregando Imagens Grayscale\n",
    "A imagem Lenna é uma imagem amplamente utilizada em processamento de imagens. Vamos carregá-la em escala de cinza. Em grayscale, cada pixel tem um valor de intensidade entre 0 e 255."
   ]
  },
  {
   "cell_type": "code",
   "execution_count": null,
   "metadata": {},
   "outputs": [],
   "source": [
    "import cv2\n",
    "\n",
    "lenna_gray = cv2.imread('data/lenna.png', cv2.IMREAD_GRAYSCALE)\n",
    "\n",
    "show_image(lenna_gray, title='Imagem Lenna em Grayscale')"
   ]
  },
  {
   "cell_type": "markdown",
   "metadata": {},
   "source": [
    "#### Histograma\n",
    "Com o histograma podemos visualizar a frequência de cada intensidade de cor nos pixels da imagem"
   ]
  },
  {
   "cell_type": "code",
   "execution_count": null,
   "metadata": {},
   "outputs": [],
   "source": [
    "# Definindo uma função para plotar o histograma de uma imagem\n",
    "def plot_histogram_gray(image, title='Histograma para imagem em escala de cinza'):\n",
    "    # Calculando o histograma\n",
    "    histogram = cv2.calcHist([image], [0], None, [256], [0, 256])\n",
    "    \n",
    "    # Plotando o histograma\n",
    "    plt.figure()\n",
    "    plt.title(title)\n",
    "    plt.xlabel('Pixel value')\n",
    "    plt.ylabel('Frequency')\n",
    "    plt.bar(range(256), histogram.flatten(), width=1)\n",
    "    plt.xlim([-1, 256])\n",
    "    plt.show()\n",
    "\n",
    "\n",
    "plot_histogram_gray(lenna_gray)"
   ]
  },
  {
   "cell_type": "markdown",
   "metadata": {},
   "source": [
    "### Carregando Imagens Coloridas\n",
    "Vamos carregar a mesma imagem em cores (RGB). Em imagens RGB, cada pixel é representado por três valores que correspondem às intensidades das cores vermelho, verde e azul."
   ]
  },
  {
   "cell_type": "code",
   "execution_count": null,
   "metadata": {},
   "outputs": [],
   "source": [
    "lenna_color = cv2.imread('data/lenna.png')\n",
    "lenna_color = cv2.cvtColor(lenna_color, cv2.COLOR_BGR2RGB)\n",
    "\n",
    "print(\"Shape:\", lenna_color.shape)\n",
    "\n",
    "show_image(lenna_color, title='Imagem Lenna Colorida')"
   ]
  },
  {
   "cell_type": "code",
   "execution_count": null,
   "metadata": {},
   "outputs": [],
   "source": [
    "# Definindo uma função para plotar histogramas para imagens RGB\n",
    "def plot_histogram_rgb(image, title='Histograma para imagem RGB'):\n",
    "    colors = ('r', 'g', 'b')\n",
    "    plt.figure()\n",
    "    plt.title(title)\n",
    "    plt.xlabel('Pixel value')\n",
    "    plt.ylabel('Frequency')\n",
    "    \n",
    "    for i, color in enumerate(colors):\n",
    "        histogram = cv2.calcHist([image], [i], None, [256], [0, 256])\n",
    "        plt.plot(histogram, color=color)\n",
    "        plt.xlim([0, 256])\n",
    "    \n",
    "    plt.show()\n",
    "\n",
    "\n",
    "plot_histogram_rgb(lenna_color)"
   ]
  },
  {
   "cell_type": "markdown",
   "metadata": {},
   "source": [
    "### Explorando os Canais de Cor RGB\n",
    "Vamos separar os canais de cor (R, G, B) da imagem colorida e visualizá-los individualmente. Cada canal é uma imagem em escala de cinza que representa a intensidade da respectiva cor em cada pixel."
   ]
  },
  {
   "cell_type": "code",
   "execution_count": null,
   "metadata": {},
   "outputs": [],
   "source": [
    "r = lenna_color[:, :, 0]\n",
    "g = lenna_color[:, :, 1]\n",
    "b = lenna_color[:, :, 2]\n",
    "\n",
    "show_image(r, title='Canal Vermelho')\n",
    "show_image(g, title='Canal Verde')\n",
    "show_image(b, title='Canal Azul')"
   ]
  },
  {
   "cell_type": "markdown",
   "metadata": {},
   "source": [
    "### Editando Canais de Cor e Combinando\n",
    "Vamos desenhar círculos em cada canal de cor da imagem Lenna. Esses círculos se sobreporão em algumas partes, criando diferentes cores na imagem final combinada."
   ]
  },
  {
   "cell_type": "code",
   "execution_count": null,
   "metadata": {},
   "outputs": [],
   "source": [
    "def draw_circle(image, center, radius, intensity):\n",
    "    for y in range(image.shape[0]):\n",
    "        for x in range(image.shape[1]):\n",
    "            if (x - center[0])**2 + (y - center[1])**2 <= radius**2:\n",
    "                image[y, x] = intensity\n",
    "    return image\n",
    "\n",
    "# Desenhando círculos nos canais\n",
    "r_circle = draw_circle(r.copy(), (200, 200), 80, 255)\n",
    "g_circle = draw_circle(g.copy(), (250, 280), 80, 255)\n",
    "b_circle = draw_circle(b.copy(), (300, 200), 80, 255)\n",
    "\n",
    "show_image(r_circle, title='Canal Vermelho')\n",
    "show_image(g_circle, title='Canal Verde')\n",
    "show_image(b_circle, title='Canal Azul')\n",
    "\n",
    "# Combinando os canais\n",
    "combined_image = np.stack([r_circle, g_circle, b_circle], axis=-1)\n",
    "show_image(combined_image, title='Imagem Combinada')"
   ]
  },
  {
   "cell_type": "markdown",
   "metadata": {},
   "source": [
    "## Exercícios\n",
    "Agora é sua vez!"
   ]
  },
  {
   "cell_type": "markdown",
   "metadata": {},
   "source": [
    "### Exercício 1\n",
    "Usando apenas manipulação de matrizes (sem o auxílio do OpenCV), converta a imagem contida na variável `lenna_rgb` para escala de cinza e em seguida plote a imagem convertida e o histograma do resultado."
   ]
  },
  {
   "cell_type": "code",
   "execution_count": null,
   "metadata": {},
   "outputs": [],
   "source": []
  },
  {
   "cell_type": "markdown",
   "metadata": {},
   "source": [
    "### Exercício 2\n",
    "Usando apenas manipulação de matrizes (sem o auxílio do OpenCV), binarize a imagem em escala de cinza obtida no exercício anterior. Faça 3 variações variando o threshold."
   ]
  },
  {
   "cell_type": "code",
   "execution_count": null,
   "metadata": {},
   "outputs": [],
   "source": []
  }
 ],
 "metadata": {
  "kernelspec": {
   "display_name": "base",
   "language": "python",
   "name": "python3"
  },
  "language_info": {
   "codemirror_mode": {
    "name": "ipython",
    "version": 3
   },
   "file_extension": ".py",
   "mimetype": "text/x-python",
   "name": "python",
   "nbconvert_exporter": "python",
   "pygments_lexer": "ipython3",
   "version": "3.10.13"
  }
 },
 "nbformat": 4,
 "nbformat_minor": 2
}
