{
 "cells": [
  {
   "cell_type": "markdown",
   "metadata": {},
   "source": [
    "### Modelos Pré-Treinados\n",
    "\n",
    "#### O que são modelos pré-treinados?\n",
    "\n",
    "Modelos pré-treinados são redes neurais que já foram treinadas em grandes conjuntos de dados, como ImageNet, para resolver tarefas gerais, como classificação de imagens. Esses modelos capturam representações úteis dos dados, como características de baixo nível (bordas, texturas) e de alto nível (formas complexas e objetos inteiros). Por isso, podem ser utilizados como ponto de partida para resolver problemas específicos sem a necessidade de treinar uma rede do zero, economizando tempo e recursos computacionais.\n",
    "\n",
    "#### Vantagens do Uso de Modelos Pré-Treinados\n",
    "- **Redução de custos:** O treinamento de grandes redes neurais do zero requer recursos computacionais significativos e tempo.\n",
    "- **Generalização:** Modelos pré-treinados frequentemente generalizam melhor para novas tarefas devido à riqueza de seus dados de treinamento.\n",
    "- **Transfer Learning:** Ajustar um modelo pré-treinado para uma tarefa específica é simples. Isso pode ser feito ao congelar camadas inferiores e treinar apenas as camadas superiores para o novo domínio.\n",
    "\n",
    "#### Como utilizá-los?\n",
    "Os modelos pré-treinados geralmente vêm acompanhados de pesos otimizados para tarefas específicas e métodos para pré-processar os dados de entrada. Em bibliotecas como o PyTorch, essas funcionalidades estão disponíveis de forma acessível.\n",
    "\n",
    "#### Hubs de Modelos Pré-Treinados\n",
    "Existem hubs especializados para encontrar e utilizar modelos pré-treinados. Um dos mais conhecidos é o **torchvision**, que oferece uma variedade de modelos treinados no ImageNet e outras tarefas relacionadas a visão computacional. Para acessar os modelos disponíveis e sua documentação, você pode visitar o [hub oficial do torchvision](https://pytorch.org/vision/main/models.html)."
   ]
  },
  {
   "cell_type": "code",
   "execution_count": null,
   "metadata": {},
   "outputs": [],
   "source": [
    "import torch\n",
    "import requests\n",
    "import numpy as np\n",
    "from PIL import Image\n",
    "from torchvision import models\n",
    "import matplotlib.pyplot as plt"
   ]
  },
  {
   "cell_type": "code",
   "execution_count": null,
   "metadata": {},
   "outputs": [],
   "source": [
    "# Importa os pesos pré-treinados do modelo ResNet50 da biblioteca torchvision\n",
    "weights = models.ResNet50_Weights.IMAGENET1K_V1\n",
    "# Instancia o modelo ResNet50 com os pesos pré-treinados no ImageNet\n",
    "model = models.resnet50(weights=weights)"
   ]
  },
  {
   "cell_type": "code",
   "execution_count": null,
   "metadata": {},
   "outputs": [],
   "source": [
    "# Função para carregar uma imagem a partir de uma URL\n",
    "def load_image_from_url(url):\n",
    "    response = requests.get(url)  # Faz uma requisição HTTP para obter a imagem\n",
    "    img = Image.open(requests.get(url, stream=True).raw)  # Abre a imagem diretamente do stream\n",
    "    return img  # Retorna a imagem carregada\n",
    "\n",
    "# Função para plotar a imagem carregada\n",
    "def plot_image(img):\n",
    "    img = np.array(img)\n",
    "    plt.imshow(img)\n",
    "    plt.axis(\"off\")\n",
    "    plt.show()\n",
    "\n",
    "# Função para obter as 5 principais previsões do modelo\n",
    "def get_top5_predictions(model, img, weights=weights):\n",
    "    # Inferência\n",
    "    model.eval()\n",
    "    with torch.no_grad():\n",
    "        output = model(img)\n",
    "\n",
    "    # Converte logits em probabilidades\n",
    "    probabilities = torch.nn.functional.softmax(output[0], dim=0)\n",
    "\n",
    "    # Obtém as 5 maiores probabilidades e seus índices\n",
    "    top5_prob, top5_catid = torch.topk(probabilities, 5)\n",
    "\n",
    "    # Obtém as categorias associadas ao conjunto de pesos\n",
    "    categories = weights.meta[\"categories\"]\n",
    "    \n",
    "    # Cria uma lista das 5 principais categorias com suas respectivas probabilidades\n",
    "    top5 = [(categories[catid], prob.item()) for catid, prob in zip(top5_catid, top5_prob)]\n",
    "    return top5"
   ]
  },
  {
   "cell_type": "code",
   "execution_count": null,
   "metadata": {},
   "outputs": [],
   "source": [
    "# Lista de URLs de imagens para teste\n",
    "urls = [\n",
    "    \"http://images.cocodataset.org/test-stuff2017/000000024309.jpg\",\n",
    "    \"http://images.cocodataset.org/test-stuff2017/000000028117.jpg\",\n",
    "    \"http://images.cocodataset.org/test-stuff2017/000000006149.jpg\",\n",
    "    \"http://images.cocodataset.org/test-stuff2017/000000004954.jpg\",\n",
    "]\n",
    "\n",
    "# Obtém a transformação recomendada para pré-processar as imagens\n",
    "# A transformação é configurada automaticamente para o conjunto de pesos utilizados\n",
    "preprocess = weights.transforms()\n",
    "\n",
    "# Para cada URL...\n",
    "for url in urls:\n",
    "    # Carrega a imagem da URL fornecida\n",
    "    image = load_image_from_url(url)\n",
    "\n",
    "    # Mostra a imagem carregada em um gráfico\n",
    "    plot_image(image)\n",
    "\n",
    "    # Pré-processa a imagem para que tenha o formato esperado pelo modelo\n",
    "    image = preprocess(image).unsqueeze(0)\n",
    "\n",
    "    # Obtém as 5 principais previsões do modelo para a imagem processada\n",
    "    predictions = get_top5_predictions(model, image)\n",
    "\n",
    "    for cat, prob in predictions:\n",
    "        print(f\"{cat}: {prob:.2f}\")\n",
    "    print()"
   ]
  },
  {
   "cell_type": "markdown",
   "metadata": {},
   "source": [
    "## Exercícios"
   ]
  },
  {
   "cell_type": "markdown",
   "metadata": {},
   "source": [
    "### Exercício 1\n",
    "Compare os resultados obtidos com o conjunto de pesos `IMAGENET1K_V2`."
   ]
  },
  {
   "cell_type": "markdown",
   "metadata": {},
   "source": [
    "### Exercício 2\n",
    "Compare os resultados obtidos com o modelo VGG16."
   ]
  }
 ],
 "metadata": {
  "kernelspec": {
   "display_name": "base",
   "language": "python",
   "name": "python3"
  },
  "language_info": {
   "codemirror_mode": {
    "name": "ipython",
    "version": 3
   },
   "file_extension": ".py",
   "mimetype": "text/x-python",
   "name": "python",
   "nbconvert_exporter": "python",
   "pygments_lexer": "ipython3",
   "version": "3.10.13"
  }
 },
 "nbformat": 4,
 "nbformat_minor": 2
}
