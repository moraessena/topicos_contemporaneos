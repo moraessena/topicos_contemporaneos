{
 "cells": [
  {
   "cell_type": "code",
   "execution_count": null,
   "metadata": {},
   "outputs": [],
   "source": [
    "import torch\n",
    "import requests\n",
    "import numpy as np\n",
    "from PIL import Image\n",
    "from torchvision import models\n",
    "import matplotlib.pyplot as plt"
   ]
  },
  {
   "cell_type": "code",
   "execution_count": null,
   "metadata": {},
   "outputs": [],
   "source": [
    "weights = models.ResNet50_Weights.IMAGENET1K_V1\n",
    "model = models.resnet50(weights=weights)"
   ]
  },
  {
   "cell_type": "code",
   "execution_count": null,
   "metadata": {},
   "outputs": [],
   "source": [
    "def load_image_from_url(url):\n",
    "    response = requests.get(url)\n",
    "    img = Image.open(requests.get(url, stream=True).raw)\n",
    "    return img\n",
    "\n",
    "def plot_image(img):\n",
    "    img = np.array(img)\n",
    "    plt.imshow(img)\n",
    "    plt.axis(\"off\")\n",
    "    plt.show()\n",
    "\n",
    "def get_top5_predictions(model, img, weights=weights):\n",
    "    model.eval()\n",
    "\n",
    "    with torch.no_grad():\n",
    "        output = model(img)\n",
    "\n",
    "    probabilities = torch.nn.functional.softmax(output[0], dim=0)\n",
    "    top5_prob, top5_catid = torch.topk(probabilities, 5)\n",
    "    categories = weights.meta[\"categories\"]\n",
    "    top5 = [(categories[catid], prob.item()) for catid, prob in zip(top5_catid, top5_prob)]\n",
    "\n",
    "    return top5"
   ]
  },
  {
   "cell_type": "code",
   "execution_count": null,
   "metadata": {},
   "outputs": [],
   "source": [
    "urls = [\n",
    "    \"http://images.cocodataset.org/test-stuff2017/000000024309.jpg\",\n",
    "    \"http://images.cocodataset.org/test-stuff2017/000000028117.jpg\",\n",
    "    \"http://images.cocodataset.org/test-stuff2017/000000006149.jpg\",\n",
    "    \"http://images.cocodataset.org/test-stuff2017/000000004954.jpg\",\n",
    "]\n",
    "\n",
    "preprocess = weights.transforms()\n",
    "\n",
    "for url in urls:\n",
    "    image = load_image_from_url(url)\n",
    "\n",
    "    plot_image(image)\n",
    "\n",
    "    image = preprocess(image).unsqueeze(0)\n",
    "    predictions = get_top5_predictions(model, image)\n",
    "    for cat, prob in predictions:\n",
    "        print(f\"{cat}: {prob:.2f}\")\n",
    "    print()"
   ]
  },
  {
   "cell_type": "markdown",
   "metadata": {},
   "source": [
    "## Exercícios"
   ]
  },
  {
   "cell_type": "markdown",
   "metadata": {},
   "source": [
    "### Exercício 1\n",
    "Compare os resultados obtidos com o conjunto de pesos `IMAGENET1K_V2`."
   ]
  },
  {
   "cell_type": "markdown",
   "metadata": {},
   "source": [
    "### Exercício 2\n",
    "Compare os resultados obtidos com o modelo VGG16."
   ]
  }
 ],
 "metadata": {
  "kernelspec": {
   "display_name": "base",
   "language": "python",
   "name": "python3"
  },
  "language_info": {
   "codemirror_mode": {
    "name": "ipython",
    "version": 3
   },
   "file_extension": ".py",
   "mimetype": "text/x-python",
   "name": "python",
   "nbconvert_exporter": "python",
   "pygments_lexer": "ipython3",
   "version": "3.10.13"
  }
 },
 "nbformat": 4,
 "nbformat_minor": 2
}
